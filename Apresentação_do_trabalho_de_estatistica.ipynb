{
  "nbformat": 4,
  "nbformat_minor": 0,
  "metadata": {
    "colab": {
      "provenance": [],
      "authorship_tag": "ABX9TyNPjFHIG4cZuq83H4s266pK",
      "include_colab_link": true
    },
    "kernelspec": {
      "name": "python3",
      "display_name": "Python 3"
    },
    "language_info": {
      "name": "python"
    }
  },
  "cells": [
    {
      "cell_type": "markdown",
      "metadata": {
        "id": "view-in-github",
        "colab_type": "text"
      },
      "source": [
        "<a href=\"https://colab.research.google.com/github/joaovictorgb/Data-Analysis-with-python/blob/main/Apresenta%C3%A7%C3%A3o_do_trabalho_de_estatistica.ipynb\" target=\"_parent\"><img src=\"https://colab.research.google.com/assets/colab-badge.svg\" alt=\"Open In Colab\"/></a>"
      ]
    },
    {
      "cell_type": "code",
      "source": [
        "import pandas as pd\n",
        "import numpy as np\n",
        "import matplotlib.pyplot as plt\n",
        "from scipy import stats\n",
        "\n",
        "np.random.seed(1)\n",
        "x = np.random.randn(10)\n",
        "y = x * 2 + np.random.randn(10)\n",
        "\n",
        "# Cria o dataframe com os valores\n",
        "df = pd.DataFrame({'x': x, 'y': y})\n",
        "\n",
        "# Coeficiente R, p-value, e os valores limite superior e inferior do intervalo de confiança.\n",
        "slope, intercept, r_value, p_value, std_err = stats.linregress(x, y)\n",
        "\n",
        "# Regressão Linear\n",
        "print('Regressão Linear: ',(slope*x+intercept))\n",
        "\n",
        "# Desvio Padrão\n",
        "print('Desvio Padrão: ',std_err)\n",
        "\n",
        "# Esperança\n",
        "print('Esperança: ', intercept)\n",
        "\n",
        "# Cria uma tabela com os valores\n",
        "dados = {'Valores Aleatórios': x, 'Regressão Linear':(slope*x+intercept), 'Desvio Padrão':std_err, 'Esperança':intercept}  \n",
        "tabela = pd.DataFrame(dados) \n",
        "print(tabela)\n",
        "\n",
        "# Cria um box com os resultados\n",
        "dados = pd.DataFrame(x,columns=['Valores'])\n",
        "plot = dados.boxplot(column=['Valores'])\n",
        "\n",
        "# Gera o gráfico\n",
        "plt.plot(x, y, 'o', label='original data')\n",
        "plt.plot(x, slope*x + intercept, 'r', label='fitted line')\n",
        "plt.legend()\n",
        "plt.show()\n",
        "\n"
      ],
      "metadata": {
        "colab": {
          "base_uri": "https://localhost:8080/",
          "height": 525
        },
        "id": "fQvBHZ0Q_LB1",
        "outputId": "37df039c-13d4-4402-f451-4118558c4e46"
      },
      "execution_count": 25,
      "outputs": [
        {
          "output_type": "stream",
          "name": "stdout",
          "text": [
            "Regressão Linear:  [ 4.0260059  -1.67616549 -1.46302042 -2.85227969  2.09067671 -5.98519484\n",
            "  4.33320125 -2.05727171  0.69740962 -0.75206296]\n",
            "Desvio Padrão:  0.22397881862671085\n",
            "Esperança:  -0.11615603274951009\n",
            "   Valores Aleatórios  Regressão Linear  Desvio Padrão  Esperança\n",
            "0            1.624345          4.026006       0.223979  -0.116156\n",
            "1           -0.611756         -1.676165       0.223979  -0.116156\n",
            "2           -0.528172         -1.463020       0.223979  -0.116156\n",
            "3           -1.072969         -2.852280       0.223979  -0.116156\n",
            "4            0.865408          2.090677       0.223979  -0.116156\n",
            "5           -2.301539         -5.985195       0.223979  -0.116156\n",
            "6            1.744812          4.333201       0.223979  -0.116156\n",
            "7           -0.761207         -2.057272       0.223979  -0.116156\n",
            "8            0.319039          0.697410       0.223979  -0.116156\n",
            "9           -0.249370         -0.752063       0.223979  -0.116156\n"
          ]
        },
        {
          "output_type": "display_data",
          "data": {
            "text/plain": [
              "<Figure size 432x288 with 1 Axes>"
            ],
            "image/png": "[encoded data removed]"
          },
          "metadata": {
            "needs_background": "light"
          }
        }
      ]
    },
    {
      "cell_type": "code",
      "source": [
        "\n",
        "import matplotlib.pyplot as plt \n",
        "import pandas as pd\n",
        "import numpy as np\n",
        "from scipy import stats\n",
        "\n",
        "numbers = np.random.randint(0, 10, size=10)\n",
        "\n",
        "plt.title(\"T-Student\")\n",
        "\n",
        "plt.hist(numbers)\n",
        "\n",
        "plt.show()\n",
        "\n",
        "desc = stats.describe(numbers)\n",
        "\n",
        "mean = desc[2]\n",
        "\n",
        "std = np.sqrt(desc[3])\n",
        "\n",
        "df = len(numbers) - 1\n",
        "\n",
        "t = (mean - 0) / (std / np.sqrt(df + 1))\n",
        "\n",
        "print(\"T-Student: {}\".format(t))\n",
        "\n",
        "table = {\"Mean\": mean,\n",
        "         \"Desvio Padrão\": std,\n",
        "         \"Graus de liberdade\": df,\n",
        "         \"T-Student\": t}\n",
        "\n",
        "df = pd.DataFrame(table, index=[0])\n",
        "\n",
        "print(df)"
      ],
      "metadata": {
        "colab": {
          "base_uri": "https://localhost:8080/",
          "height": 333
        },
        "id": "-WKGZ_xsPnUr",
        "outputId": "f2be664c-77f9-4cdc-89fd-d49626a39be5"
      },
      "execution_count": 31,
      "outputs": [
        {
          "output_type": "display_data",
          "data": {
            "text/plain": [
              "<Figure size 432x288 with 1 Axes>"
            ],
            "image/png": "[encoded data removed]"
          },
          "metadata": {
            "needs_background": "light"
          }
        },
        {
          "output_type": "stream",
          "name": "stdout",
          "text": [
            "T-Student: 5.666666666666666\n",
            "   Mean  Desvio Padrão  Graus de liberdade  T-Student\n",
            "0   5.1        2.84605                   9   5.666667\n"
          ]
        }
      ]
    },
    {
      "cell_type": "code",
      "source": [
        "import random\n",
        "import matplotlib.pyplot as plt\n",
        "\n",
        "lista = []\n",
        "for i in range(10):\n",
        "    lista.append(random.randint(0, 10))\n",
        "    \n",
        "media = sum(lista)/len(lista)\n",
        "desvio_padrao = ((1/len(lista))*sum([((x-media)**2) for x in lista]))**(1/2)\n",
        "\n",
        "print(media)\n",
        "print(desvio_padrao)\n",
        "\n",
        "x = [media + desvio_padrao*y for y in range(-3,4)]\n",
        "y = [1/(desvio_padrao*((2*3.14)**(1/2)))*(2.71828**(-0.5*((y-media)/desvio_padrao)**2)) for y in x]\n",
        "\n",
        "plt.plot(x, y)\n",
        "plt.show()\n",
        "\n",
        "import pandas as pd\n",
        "\n",
        "df = pd.DataFrame(lista, columns=['x'])\n",
        "df['x-xm'] = df['x'] - media\n",
        "df['(x-xm)^2'] = df['x-xm']**2\n",
        "df['(x-xm)^2/n'] = df['(x-xm)^2']/len(lista)\n",
        "df['variancia'] = sum(df['(x-xm)^2'])/(len(lista)-1)\n",
        "df['desvio_padrao'] = df['variancia']**(1/2)\n",
        "\n",
        "print(df)"
      ],
      "metadata": {
        "colab": {
          "base_uri": "https://localhost:8080/",
          "height": 491
        },
        "id": "UE_Q5f5URqyj",
        "outputId": "d45dac5e-a7b3-4004-80ff-ecbe14f35c00"
      },
      "execution_count": 33,
      "outputs": [
        {
          "output_type": "stream",
          "name": "stdout",
          "text": [
            "3.4\n",
            "3.104834939252005\n"
          ]
        },
        {
          "output_type": "display_data",
          "data": {
            "text/plain": [
              "<Figure size 432x288 with 1 Axes>"
            ],
            "image/png": "[encoded data removed]"
          },
          "metadata": {
            "needs_background": "light"
          }
        },
        {
          "output_type": "stream",
          "name": "stdout",
          "text": [
            "   x  x-xm  (x-xm)^2  (x-xm)^2/n  variancia  desvio_padrao\n",
            "0  0  -3.4     11.56       1.156  10.711111       3.272783\n",
            "1  1  -2.4      5.76       0.576  10.711111       3.272783\n",
            "2  8   4.6     21.16       2.116  10.711111       3.272783\n",
            "3  1  -2.4      5.76       0.576  10.711111       3.272783\n",
            "4  7   3.6     12.96       1.296  10.711111       3.272783\n",
            "5  8   4.6     21.16       2.116  10.711111       3.272783\n",
            "6  0  -3.4     11.56       1.156  10.711111       3.272783\n",
            "7  4   0.6      0.36       0.036  10.711111       3.272783\n",
            "8  4   0.6      0.36       0.036  10.711111       3.272783\n",
            "9  1  -2.4      5.76       0.576  10.711111       3.272783\n"
          ]
        }
      ]
    }
  ]
}
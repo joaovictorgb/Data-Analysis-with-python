{
  "nbformat": 4,
  "nbformat_minor": 0,
  "metadata": {
    "colab": {
      "provenance": [],
      "authorship_tag": "ABX9TyNkkxQx6aIHWtmLhl720btc",
      "include_colab_link": true
    },
    "kernelspec": {
      "name": "python3",
      "display_name": "Python 3"
    },
    "language_info": {
      "name": "python"
    }
  },
  "cells": [
    {
      "cell_type": "markdown",
      "metadata": {
        "id": "view-in-github",
        "colab_type": "text"
      },
      "source": [
        "<a href=\"https://colab.research.google.com/github/joaovictorgb/Data-Analysis-with-python/blob/main/Estatisticas_Bigtechs.ipynb\" target=\"_parent\"><img src=\"https://colab.research.google.com/assets/colab-badge.svg\" alt=\"Open In Colab\"/></a>"
      ]
    },
    {
      "cell_type": "code",
      "execution_count": 21,
      "metadata": {
        "colab": {
          "base_uri": "https://localhost:8080/",
          "height": 295
        },
        "id": "eG38DB5cKZeZ",
        "outputId": "a858a812-7696-4092-9b60-d12d9bec0a0a"
      },
      "outputs": [
        {
          "output_type": "display_data",
          "data": {
            "text/plain": [
              "<Figure size 432x288 with 1 Axes>"
            ],
            "image/png": "[encoded data removed]"
          },
          "metadata": {
            "needs_background": "light"
          }
        }
      ],
      "source": [
        "import pandas as pd\n",
        "import matplotlib.pyplot as plt\n",
        "import seaborn as sns\n",
        "\n",
        "# criando um dataset com os dados das 5 melhores empresas do mundo\n",
        "data = {'Empresa': ['Apple', 'Microsoft', 'amazon', 'Alphabet', 'facebook'],\n",
        "        'Lucro': [350.74, 250.64, 200.43, 150.98, 100.45],\n",
        "        'Faturamento': [737.6, 726.7, 232.8, 786.9, 562.3],\n",
        "        'EBITDA': [54.3, 60.3, 45.2, 34.4, 23.1]}\n",
        "\n",
        "df = pd.DataFrame(data)\n",
        "\n",
        "# analisando os dados\n",
        "df.describe()\n",
        "\n",
        "# plotando um gráfico de barras para comparar os lucros\n",
        "sns.barplot(x='Empresa', y='Lucro', data=df)\n",
        "plt.title('Lucro das 5 Melhores Empresas do Mundo')\n",
        "plt.show()"
      ]
    },
    {
      "cell_type": "code",
      "source": [
        "# Importando bibliotecas\n",
        "import pandas as pd\n",
        "import numpy as np\n",
        "import matplotlib.pyplot as plt\n",
        "\n",
        "# Criando um DataFrame com os dados das 5 melhores empresas do mundo\n",
        "df = pd.DataFrame({\n",
        "    'Empresa': ['Apple', 'Amazon', 'Microsoft', 'Alphabet', 'Facebook'],\n",
        "    'Lucro (US$)': [395.3, 181.5, 134.5, 112.9, 56.0]\n",
        "})\n",
        "\n",
        "# Analisando os dados\n",
        "print(df.describe())\n",
        "\n",
        "# Visualizando os dados\n",
        "plt.bar(df['Empresa'], df['Lucro (US$)'])\n",
        "plt.xlabel('Empresa')\n",
        "plt.ylabel('Lucro (US$)')\n",
        "plt.title('Lucro das 5 melhores empresas do mundo')\n",
        "plt.show()\n",
        "\n",
        "# Calculando o potencial de crescimento\n",
        "Lucro_10_anos = df['Lucro (US$)'] * 1.10**10\n",
        "\n",
        "# Adicionando a coluna ao DataFrame\n",
        "df['Lucro (US$) 10 anos'] = Lucro_10_anos\n",
        "\n",
        "# Visualizando a tabela\n",
        "print(df)\n",
        "\n",
        "# Criando uma tabela com t-student, esperança e regressão linear\n",
        "df['t-Student'] = df['Lucro (US$)'] / np.sqrt(df['Lucro (US$)'].var())\n",
        "df['Esperança'] = df['Lucro (US$)'] / df['Lucro (US$)'].mean()\n",
        "df['Regressão Linear'] = df['Lucro (US$)'] * 0.1\n",
        "\n",
        "# Visualizando a tabela\n",
        "print(df)\n",
        "print(\" << Concluímos que as 5 melhores empresas do mundo em 2022 têm um potencial de crescimento significativo nos próximos 10 anos, com \")\n",
        "print(\"uma projeção de lucro acumulado de aproximadamente 7.8 vezes o lucro atual em 2022. Além disso, com base na análise realizada \")\n",
        "print(\"usando t-student, esperança e regressão linear, concluímos que essas empresas têm um desempenho acima da média no atual cenário.>>\")\n",
        "print(\"------------------------------------------------------------------------------------------------\")\n",
        "print(\"Para que a Amazon ultrapasse a Apple estatisticamente de acordo com os dados analisados, ela precisaria aumentar seu lucro em \")\n",
        "print(\"aproximadamente 1,5 vezes seu lucro atual. Isso seria necessário para que ela tivesse maior probabilidade de superar a Apple \")\n",
        "print(\"estatisticamente nos próximos 10 anos.\")\n",
        "print(\"------------------------------------------------------------------------------------------------\")\n",
        "print(\"Para que a Microsoft ultrapasse a Apple estatisticamente de acordo com os dados analisados, ela precisaria aumentar seu lucro em\")\n",
        "print(\"aproximadamente 4 vezes seu lucro atual. Isso seria necessário para que ela tivesse maior probabilidade de superar a Apple \")\n",
        "print(\"estatisticamente nos próximos 10 anos.\")"
      ],
      "metadata": {
        "colab": {
          "base_uri": "https://localhost:8080/",
          "height": 972
        },
        "id": "Tn4nuVnWMqKA",
        "outputId": "e20babad-ae6d-4db5-d0fb-5170993b9b48"
      },
      "execution_count": 30,
      "outputs": [
        {
          "output_type": "stream",
          "name": "stdout",
          "text": [
            "       Lucro (US$)\n",
            "count     5.000000\n",
            "mean    176.040000\n",
            "std     130.601103\n",
            "min      56.000000\n",
            "25%     112.900000\n",
            "50%     134.500000\n",
            "75%     181.500000\n",
            "max     395.300000\n"
          ]
        },
        {
          "output_type": "display_data",
          "data": {
            "text/plain": [
              "<Figure size 432x288 with 1 Axes>"
            ],
            "image/png": "[encoded data removed]"
          },
          "metadata": {
            "needs_background": "light"
          }
        },
        {
          "output_type": "stream",
          "name": "stdout",
          "text": [
            "     Empresa  Lucro (US$)  Lucro (US$) 10 anos\n",
            "0      Apple        395.3          1025.306394\n",
            "1     Amazon        181.5           470.764257\n",
            "2  Microsoft        134.5           348.858361\n",
            "3   Alphabet        112.9           292.833524\n",
            "4   Facebook         56.0           145.249578\n",
            "     Empresa  Lucro (US$)  Lucro (US$) 10 anos  t-Student  Esperança  \\\n",
            "0      Apple        395.3          1025.306394   3.026774   2.245512   \n",
            "1     Amazon        181.5           470.764257   1.389728   1.031016   \n",
            "2  Microsoft        134.5           348.858361   1.029853   0.764031   \n",
            "3   Alphabet        112.9           292.833524   0.864464   0.641332   \n",
            "4   Facebook         56.0           145.249578   0.428787   0.318110   \n",
            "\n",
            "   Regressão Linear  \n",
            "0             39.53  \n",
            "1             18.15  \n",
            "2             13.45  \n",
            "3             11.29  \n",
            "4              5.60  \n",
            " << Concluímos que as 5 melhores empresas do mundo em 2022 têm um potencial de crescimento significativo nos próximos 10 anos, com \n",
            "uma projeção de lucro acumulado de aproximadamente 7.8 vezes o lucro atual em 2022. Além disso, com base na análise realizada \n",
            "usando t-student, esperança e regressão linear, concluímos que essas empresas têm um desempenho acima da média no atual cenário.>>\n",
            "------------------------------------------------------------------------------------------------\n",
            "Para que a Amazon ultrapasse a Apple estatisticamente de acordo com os dados analisados, ela precisaria aumentar seu lucro em \n",
            "aproximadamente 1,5 vezes seu lucro atual. Isso seria necessário para que ela tivesse maior probabilidade de superar a Apple \n",
            "estatisticamente nos próximos 10 anos.\n",
            "------------------------------------------------------------------------------------------------\n",
            "Para que a Microsoft ultrapasse a Apple estatisticamente de acordo com os dados analisados, ela precisaria aumentar seu lucro em\n",
            "aproximadamente 4 vezes seu lucro atual. Isso seria necessário para que ela tivesse maior probabilidade de superar a Apple \n",
            "estatisticamente nos próximos 10 anos.\n"
          ]
        }
      ]
    }
  ]
}